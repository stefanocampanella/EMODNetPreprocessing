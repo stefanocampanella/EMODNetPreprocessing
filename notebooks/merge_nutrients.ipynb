{
 "cells": [
  {
   "cell_type": "code",
   "id": "73a1ba03-45bc-4286-9105-6396022023fa",
   "metadata": {
    "id": "73a1ba03-45bc-4286-9105-6396022023fa",
    "ExecuteTime": {
     "end_time": "2024-04-23T13:04:16.969228Z",
     "start_time": "2024-04-23T13:04:16.710566Z"
    }
   },
   "source": [
    "import re\n",
    "import pandas as pd\n",
    "import numpy as np\n",
    "from calendar import month_name"
   ],
   "outputs": [],
   "execution_count": 1
  },
  {
   "cell_type": "code",
   "id": "a0c3e507-866b-42f4-84d9-f68a85943439",
   "metadata": {
    "id": "a0c3e507-866b-42f4-84d9-f68a85943439",
    "ExecuteTime": {
     "end_time": "2024-04-23T13:04:16.973355Z",
     "start_time": "2024-04-23T13:04:16.970226Z"
    }
   },
   "source": [
    "def read_emodnet(filepath, flag):\n",
    "    input_columns = [\n",
    "        \"datetime\", \"longitude\", \"latitude\", \"depth\",\n",
    "        \"nitrate\", \"nitrite\", \"ammonium\", \"phosphate\", \"silicate\", \"oxygen\", \"chlorophyll\",\n",
    "        \"instrument_type\", \"cruise_id\"]\n",
    "    output_columns = [\n",
    "        \"YYYY\", \"MM\", \"DD\", \"lat\", \"lon\", \"depth\",\n",
    "        \"nitrate\", \"nitrite\", \"ammonium\", \"phosphate\", \"silicate\", \"oxygen\", \"chlorophyll\",\n",
    "        \"ID_type_profile\", \"cruise_id\", \"flag\"]\n",
    "\n",
    "    df = pd.read_parquet(filepath, columns=input_columns)\n",
    "    df[\"YYYY\"] = df.datetime.map(lambda dt: dt.year)\n",
    "    df[\"MM\"] = df.datetime.map(lambda dt: dt.month)\n",
    "    df[\"DD\"] = df.datetime.map(lambda dt: dt.day)\n",
    "    df[\"instrument_type\"] = df.instrument_type.map(lambda b: b.decode(\"utf-8\"))\n",
    "    df[\"cruise_id\"] = df.cruise_id.map(lambda b: b.decode(\"utf-8\"))\n",
    "    df[\"flag\"] = flag\n",
    "    df.rename(columns={\"latitude\": \"lat\", \"longitude\": \"lon\", \"instrument_type\": \"ID_type_profile\"}, inplace=True)\n",
    "\n",
    "    return df[output_columns]"
   ],
   "outputs": [],
   "execution_count": 2
  },
  {
   "cell_type": "code",
   "id": "bbea8c54-76fd-4d56-b9ee-c931d888ad04",
   "metadata": {
    "id": "bbea8c54-76fd-4d56-b9ee-c931d888ad04",
    "ExecuteTime": {
     "end_time": "2024-04-23T13:04:16.976553Z",
     "start_time": "2024-04-23T13:04:16.974364Z"
    }
   },
   "source": [
    "def parse_month(m):\n",
    "    if re.fullmatch(r'[0-9]+\\.0+', m):\n",
    "        return float(m)\n",
    "    else:\n",
    "        search = map(lambda s: re.match(f\"(?i){m}\", s) is not None, month_name)\n",
    "        return float(list(search).index(True))"
   ],
   "outputs": [],
   "execution_count": 3
  },
  {
   "cell_type": "code",
   "id": "d3f21c35-7e58-40e2-bc1e-d94dc4d9fcdb",
   "metadata": {
    "id": "d3f21c35-7e58-40e2-bc1e-d94dc4d9fcdb",
    "ExecuteTime": {
     "end_time": "2024-04-23T13:04:16.979758Z",
     "start_time": "2024-04-23T13:04:16.977546Z"
    }
   },
   "source": [
    "def parse_instrument_type(t):\n",
    "    if re.match(\"1\", t) is not None:\n",
    "        return \"nut\"\n",
    "    else:\n",
    "        return \"probe\""
   ],
   "outputs": [],
   "execution_count": 4
  },
  {
   "cell_type": "code",
   "id": "15a0ef06-7214-42e5-98e4-58053ae6e32f",
   "metadata": {
    "id": "15a0ef06-7214-42e5-98e4-58053ae6e32f",
    "ExecuteTime": {
     "end_time": "2024-04-23T13:04:16.983726Z",
     "start_time": "2024-04-23T13:04:16.981108Z"
    }
   },
   "source": [
    "def read_cruises(filename, flag, idcampains):\n",
    "    df = pd.read_csv(filename, converters={\"MM\": parse_month, \"ID_type_profile\": parse_instrument_type})\n",
    "    df[\"YYYY\"] = df.YYYY.map(int)\n",
    "    df[\"MM\"] = df.MM.map(int)\n",
    "    df[\"DD\"] = df.DD.map(int)\n",
    "    df[\"idcampain\"] = df.idcampain.map(int)\n",
    "    df[\"cruise_id\"] = np.fromiter(map(lambda n: idcampains[n], df.idcampain - 1), dtype=object)\n",
    "    for name in [\"density\", \"id_profile\"]:\n",
    "        if name in df.columns:\n",
    "            df.drop(columns=name, inplace=True)\n",
    "    df[\"flag\"] = flag\n",
    "    return df"
   ],
   "outputs": [],
   "execution_count": 5
  },
  {
   "cell_type": "code",
   "id": "7775731d-b1d9-4860-b066-ff6535b581c7",
   "metadata": {
    "id": "7775731d-b1d9-4860-b066-ff6535b581c7",
    "outputId": "0d67a290-444d-45c8-873f-9be94bdc5fa8",
    "ExecuteTime": {
     "end_time": "2024-04-23T13:06:07.305347Z",
     "start_time": "2024-04-23T13:06:07.206390Z"
    }
   },
   "source": [
    "emodnet_profiles = read_emodnet(\"../1999-2023/parquet/emodnet_profile.parquet\", \"1-emodnet_profile\")\n",
    "emodnet_timeseries = read_emodnet(\"../1999-2023/parquet/emodnet_timeseries.parquet\", \"1-emodnet_timeseries\")\n",
    "emodnet = pd.concat([emodnet_timeseries, emodnet_profiles], ignore_index=True)\n",
    "\n",
    "emodnet"
   ],
   "outputs": [
    {
     "ename": "ValueError",
     "evalue": "Following columns were requested but are not available: {'chlorophyll'}.\nAll requested columns: ['datetime', 'longitude', 'latitude', 'depth', 'nitrate', 'nitrite', 'ammonium', 'phosphate', 'silicate', 'oxygen', 'chlorophyll', 'instrument_type', 'cruise_id']\nAvailable columns: ['longitude', 'latitude', 'cruise_id', 'instrument_type', 'platform_type', 'station_id', 'station_ncref', 'depth', 'datetime', 'nitrate', 'nitrate_qc', 'nitrite', 'nitrite_qc', 'ammonium', 'ammonium_qc', 'phosphate', 'phosphate_qc', 'silicate', 'silicate_qc', 'oxygen', 'oxygen_qc', 'alkalinity', 'alkalinity_qc', 'dic', 'dic_qc', 'salinity', 'salinity_qc', 'temperature', 'temperature_qc']",
     "output_type": "error",
     "traceback": [
      "\u001B[0;31m---------------------------------------------------------------------------\u001B[0m",
      "\u001B[0;31mValueError\u001B[0m                                Traceback (most recent call last)",
      "Cell \u001B[0;32mIn[8], line 1\u001B[0m\n\u001B[0;32m----> 1\u001B[0m emodnet_profiles \u001B[38;5;241m=\u001B[39m \u001B[43mread_emodnet\u001B[49m\u001B[43m(\u001B[49m\u001B[38;5;124;43m\"\u001B[39;49m\u001B[38;5;124;43m../1999-2023/parquet/emodnet_profile.parquet\u001B[39;49m\u001B[38;5;124;43m\"\u001B[39;49m\u001B[43m,\u001B[49m\u001B[43m \u001B[49m\u001B[38;5;124;43m\"\u001B[39;49m\u001B[38;5;124;43m1-emodnet_profile\u001B[39;49m\u001B[38;5;124;43m\"\u001B[39;49m\u001B[43m)\u001B[49m\n\u001B[1;32m      2\u001B[0m emodnet_timeseries \u001B[38;5;241m=\u001B[39m read_emodnet(\u001B[38;5;124m\"\u001B[39m\u001B[38;5;124m../1999-2023/parquet/emodnet_timeseries.parquet\u001B[39m\u001B[38;5;124m\"\u001B[39m, \u001B[38;5;124m\"\u001B[39m\u001B[38;5;124m1-emodnet_timeseries\u001B[39m\u001B[38;5;124m\"\u001B[39m)\n\u001B[1;32m      3\u001B[0m emodnet \u001B[38;5;241m=\u001B[39m pd\u001B[38;5;241m.\u001B[39mconcat([emodnet_timeseries, emodnet_profiles], ignore_index\u001B[38;5;241m=\u001B[39m\u001B[38;5;28;01mTrue\u001B[39;00m)\n",
      "Cell \u001B[0;32mIn[2], line 11\u001B[0m, in \u001B[0;36mread_emodnet\u001B[0;34m(filepath, flag)\u001B[0m\n\u001B[1;32m      2\u001B[0m input_columns \u001B[38;5;241m=\u001B[39m [\n\u001B[1;32m      3\u001B[0m     \u001B[38;5;124m\"\u001B[39m\u001B[38;5;124mdatetime\u001B[39m\u001B[38;5;124m\"\u001B[39m, \u001B[38;5;124m\"\u001B[39m\u001B[38;5;124mlongitude\u001B[39m\u001B[38;5;124m\"\u001B[39m, \u001B[38;5;124m\"\u001B[39m\u001B[38;5;124mlatitude\u001B[39m\u001B[38;5;124m\"\u001B[39m, \u001B[38;5;124m\"\u001B[39m\u001B[38;5;124mdepth\u001B[39m\u001B[38;5;124m\"\u001B[39m,\n\u001B[1;32m      4\u001B[0m     \u001B[38;5;124m\"\u001B[39m\u001B[38;5;124mnitrate\u001B[39m\u001B[38;5;124m\"\u001B[39m, \u001B[38;5;124m\"\u001B[39m\u001B[38;5;124mnitrite\u001B[39m\u001B[38;5;124m\"\u001B[39m, \u001B[38;5;124m\"\u001B[39m\u001B[38;5;124mammonium\u001B[39m\u001B[38;5;124m\"\u001B[39m, \u001B[38;5;124m\"\u001B[39m\u001B[38;5;124mphosphate\u001B[39m\u001B[38;5;124m\"\u001B[39m, \u001B[38;5;124m\"\u001B[39m\u001B[38;5;124msilicate\u001B[39m\u001B[38;5;124m\"\u001B[39m, \u001B[38;5;124m\"\u001B[39m\u001B[38;5;124moxygen\u001B[39m\u001B[38;5;124m\"\u001B[39m, \u001B[38;5;124m\"\u001B[39m\u001B[38;5;124mchlorophyll\u001B[39m\u001B[38;5;124m\"\u001B[39m,\n\u001B[1;32m      5\u001B[0m     \u001B[38;5;124m\"\u001B[39m\u001B[38;5;124minstrument_type\u001B[39m\u001B[38;5;124m\"\u001B[39m, \u001B[38;5;124m\"\u001B[39m\u001B[38;5;124mcruise_id\u001B[39m\u001B[38;5;124m\"\u001B[39m]\n\u001B[1;32m      6\u001B[0m output_columns \u001B[38;5;241m=\u001B[39m [\n\u001B[1;32m      7\u001B[0m     \u001B[38;5;124m\"\u001B[39m\u001B[38;5;124mYYYY\u001B[39m\u001B[38;5;124m\"\u001B[39m, \u001B[38;5;124m\"\u001B[39m\u001B[38;5;124mMM\u001B[39m\u001B[38;5;124m\"\u001B[39m, \u001B[38;5;124m\"\u001B[39m\u001B[38;5;124mDD\u001B[39m\u001B[38;5;124m\"\u001B[39m, \u001B[38;5;124m\"\u001B[39m\u001B[38;5;124mlat\u001B[39m\u001B[38;5;124m\"\u001B[39m, \u001B[38;5;124m\"\u001B[39m\u001B[38;5;124mlon\u001B[39m\u001B[38;5;124m\"\u001B[39m, \u001B[38;5;124m\"\u001B[39m\u001B[38;5;124mdepth\u001B[39m\u001B[38;5;124m\"\u001B[39m,\n\u001B[1;32m      8\u001B[0m     \u001B[38;5;124m\"\u001B[39m\u001B[38;5;124mnitrate\u001B[39m\u001B[38;5;124m\"\u001B[39m, \u001B[38;5;124m\"\u001B[39m\u001B[38;5;124mnitrite\u001B[39m\u001B[38;5;124m\"\u001B[39m, \u001B[38;5;124m\"\u001B[39m\u001B[38;5;124mammonium\u001B[39m\u001B[38;5;124m\"\u001B[39m, \u001B[38;5;124m\"\u001B[39m\u001B[38;5;124mphosphate\u001B[39m\u001B[38;5;124m\"\u001B[39m, \u001B[38;5;124m\"\u001B[39m\u001B[38;5;124msilicate\u001B[39m\u001B[38;5;124m\"\u001B[39m, \u001B[38;5;124m\"\u001B[39m\u001B[38;5;124moxygen\u001B[39m\u001B[38;5;124m\"\u001B[39m, \u001B[38;5;124m\"\u001B[39m\u001B[38;5;124mchlorophyll\u001B[39m\u001B[38;5;124m\"\u001B[39m,\n\u001B[1;32m      9\u001B[0m     \u001B[38;5;124m\"\u001B[39m\u001B[38;5;124mID_type_profile\u001B[39m\u001B[38;5;124m\"\u001B[39m, \u001B[38;5;124m\"\u001B[39m\u001B[38;5;124mcruise_id\u001B[39m\u001B[38;5;124m\"\u001B[39m, \u001B[38;5;124m\"\u001B[39m\u001B[38;5;124mflag\u001B[39m\u001B[38;5;124m\"\u001B[39m]\n\u001B[0;32m---> 11\u001B[0m df \u001B[38;5;241m=\u001B[39m \u001B[43mpd\u001B[49m\u001B[38;5;241;43m.\u001B[39;49m\u001B[43mread_parquet\u001B[49m\u001B[43m(\u001B[49m\u001B[43mfilepath\u001B[49m\u001B[43m,\u001B[49m\u001B[43m \u001B[49m\u001B[43mcolumns\u001B[49m\u001B[38;5;241;43m=\u001B[39;49m\u001B[43minput_columns\u001B[49m\u001B[43m)\u001B[49m\n\u001B[1;32m     12\u001B[0m df[\u001B[38;5;124m\"\u001B[39m\u001B[38;5;124mYYYY\u001B[39m\u001B[38;5;124m\"\u001B[39m] \u001B[38;5;241m=\u001B[39m df\u001B[38;5;241m.\u001B[39mdatetime\u001B[38;5;241m.\u001B[39mmap(\u001B[38;5;28;01mlambda\u001B[39;00m dt: dt\u001B[38;5;241m.\u001B[39myear)\n\u001B[1;32m     13\u001B[0m df[\u001B[38;5;124m\"\u001B[39m\u001B[38;5;124mMM\u001B[39m\u001B[38;5;124m\"\u001B[39m] \u001B[38;5;241m=\u001B[39m df\u001B[38;5;241m.\u001B[39mdatetime\u001B[38;5;241m.\u001B[39mmap(\u001B[38;5;28;01mlambda\u001B[39;00m dt: dt\u001B[38;5;241m.\u001B[39mmonth)\n",
      "File \u001B[0;32m~/.miniconda/envs/emodnet/lib/python3.12/site-packages/pandas/io/parquet.py:667\u001B[0m, in \u001B[0;36mread_parquet\u001B[0;34m(path, engine, columns, storage_options, use_nullable_dtypes, dtype_backend, filesystem, filters, **kwargs)\u001B[0m\n\u001B[1;32m    664\u001B[0m     use_nullable_dtypes \u001B[38;5;241m=\u001B[39m \u001B[38;5;28;01mFalse\u001B[39;00m\n\u001B[1;32m    665\u001B[0m check_dtype_backend(dtype_backend)\n\u001B[0;32m--> 667\u001B[0m \u001B[38;5;28;01mreturn\u001B[39;00m \u001B[43mimpl\u001B[49m\u001B[38;5;241;43m.\u001B[39;49m\u001B[43mread\u001B[49m\u001B[43m(\u001B[49m\n\u001B[1;32m    668\u001B[0m \u001B[43m    \u001B[49m\u001B[43mpath\u001B[49m\u001B[43m,\u001B[49m\n\u001B[1;32m    669\u001B[0m \u001B[43m    \u001B[49m\u001B[43mcolumns\u001B[49m\u001B[38;5;241;43m=\u001B[39;49m\u001B[43mcolumns\u001B[49m\u001B[43m,\u001B[49m\n\u001B[1;32m    670\u001B[0m \u001B[43m    \u001B[49m\u001B[43mfilters\u001B[49m\u001B[38;5;241;43m=\u001B[39;49m\u001B[43mfilters\u001B[49m\u001B[43m,\u001B[49m\n\u001B[1;32m    671\u001B[0m \u001B[43m    \u001B[49m\u001B[43mstorage_options\u001B[49m\u001B[38;5;241;43m=\u001B[39;49m\u001B[43mstorage_options\u001B[49m\u001B[43m,\u001B[49m\n\u001B[1;32m    672\u001B[0m \u001B[43m    \u001B[49m\u001B[43muse_nullable_dtypes\u001B[49m\u001B[38;5;241;43m=\u001B[39;49m\u001B[43muse_nullable_dtypes\u001B[49m\u001B[43m,\u001B[49m\n\u001B[1;32m    673\u001B[0m \u001B[43m    \u001B[49m\u001B[43mdtype_backend\u001B[49m\u001B[38;5;241;43m=\u001B[39;49m\u001B[43mdtype_backend\u001B[49m\u001B[43m,\u001B[49m\n\u001B[1;32m    674\u001B[0m \u001B[43m    \u001B[49m\u001B[43mfilesystem\u001B[49m\u001B[38;5;241;43m=\u001B[39;49m\u001B[43mfilesystem\u001B[49m\u001B[43m,\u001B[49m\n\u001B[1;32m    675\u001B[0m \u001B[43m    \u001B[49m\u001B[38;5;241;43m*\u001B[39;49m\u001B[38;5;241;43m*\u001B[39;49m\u001B[43mkwargs\u001B[49m\u001B[43m,\u001B[49m\n\u001B[1;32m    676\u001B[0m \u001B[43m\u001B[49m\u001B[43m)\u001B[49m\n",
      "File \u001B[0;32m~/.miniconda/envs/emodnet/lib/python3.12/site-packages/pandas/io/parquet.py:403\u001B[0m, in \u001B[0;36mFastParquetImpl.read\u001B[0;34m(self, path, columns, filters, storage_options, filesystem, **kwargs)\u001B[0m\n\u001B[1;32m    401\u001B[0m \u001B[38;5;28;01mtry\u001B[39;00m:\n\u001B[1;32m    402\u001B[0m     parquet_file \u001B[38;5;241m=\u001B[39m \u001B[38;5;28mself\u001B[39m\u001B[38;5;241m.\u001B[39mapi\u001B[38;5;241m.\u001B[39mParquetFile(path, \u001B[38;5;241m*\u001B[39m\u001B[38;5;241m*\u001B[39mparquet_kwargs)\n\u001B[0;32m--> 403\u001B[0m     \u001B[38;5;28;01mreturn\u001B[39;00m \u001B[43mparquet_file\u001B[49m\u001B[38;5;241;43m.\u001B[39;49m\u001B[43mto_pandas\u001B[49m\u001B[43m(\u001B[49m\u001B[43mcolumns\u001B[49m\u001B[38;5;241;43m=\u001B[39;49m\u001B[43mcolumns\u001B[49m\u001B[43m,\u001B[49m\u001B[43m \u001B[49m\u001B[43mfilters\u001B[49m\u001B[38;5;241;43m=\u001B[39;49m\u001B[43mfilters\u001B[49m\u001B[43m,\u001B[49m\u001B[43m \u001B[49m\u001B[38;5;241;43m*\u001B[39;49m\u001B[38;5;241;43m*\u001B[39;49m\u001B[43mkwargs\u001B[49m\u001B[43m)\u001B[49m\n\u001B[1;32m    404\u001B[0m \u001B[38;5;28;01mfinally\u001B[39;00m:\n\u001B[1;32m    405\u001B[0m     \u001B[38;5;28;01mif\u001B[39;00m handles \u001B[38;5;129;01mis\u001B[39;00m \u001B[38;5;129;01mnot\u001B[39;00m \u001B[38;5;28;01mNone\u001B[39;00m:\n",
      "File \u001B[0;32m~/.miniconda/envs/emodnet/lib/python3.12/site-packages/fastparquet/api.py:745\u001B[0m, in \u001B[0;36mParquetFile.to_pandas\u001B[0;34m(self, columns, categories, filters, index, row_filter, dtypes)\u001B[0m\n\u001B[1;32m    743\u001B[0m \u001B[38;5;28;01mif\u001B[39;00m index:\n\u001B[1;32m    744\u001B[0m     columns \u001B[38;5;241m+\u001B[39m\u001B[38;5;241m=\u001B[39m [i \u001B[38;5;28;01mfor\u001B[39;00m i \u001B[38;5;129;01min\u001B[39;00m index \u001B[38;5;28;01mif\u001B[39;00m i \u001B[38;5;129;01mnot\u001B[39;00m \u001B[38;5;129;01min\u001B[39;00m columns]\n\u001B[0;32m--> 745\u001B[0m \u001B[43mcheck_column_names\u001B[49m\u001B[43m(\u001B[49m\u001B[38;5;28;43mself\u001B[39;49m\u001B[38;5;241;43m.\u001B[39;49m\u001B[43mcolumns\u001B[49m\u001B[43m \u001B[49m\u001B[38;5;241;43m+\u001B[39;49m\u001B[43m \u001B[49m\u001B[38;5;28;43mlist\u001B[39;49m\u001B[43m(\u001B[49m\u001B[38;5;28;43mself\u001B[39;49m\u001B[38;5;241;43m.\u001B[39;49m\u001B[43mcats\u001B[49m\u001B[43m)\u001B[49m\u001B[43m,\u001B[49m\u001B[43m \u001B[49m\u001B[43mcolumns\u001B[49m\u001B[43m,\u001B[49m\u001B[43m \u001B[49m\u001B[43mcategories\u001B[49m\u001B[43m)\u001B[49m\n\u001B[1;32m    746\u001B[0m \u001B[38;5;28;01mif\u001B[39;00m row_filter \u001B[38;5;129;01mis\u001B[39;00m \u001B[38;5;129;01mnot\u001B[39;00m \u001B[38;5;28;01mFalse\u001B[39;00m:\n\u001B[1;32m    747\u001B[0m     \u001B[38;5;28;01mif\u001B[39;00m filters \u001B[38;5;129;01mand\u001B[39;00m row_filter \u001B[38;5;129;01mis\u001B[39;00m \u001B[38;5;28;01mTrue\u001B[39;00m:\n\u001B[1;32m    748\u001B[0m         \u001B[38;5;66;03m# Rows are selected as per filters.\u001B[39;00m\n\u001B[1;32m    749\u001B[0m         \u001B[38;5;66;03m# TODO: special case when filter columns are also in output\u001B[39;00m\n",
      "File \u001B[0;32m~/.miniconda/envs/emodnet/lib/python3.12/site-packages/fastparquet/util.py:131\u001B[0m, in \u001B[0;36mcheck_column_names\u001B[0;34m(columns, *args)\u001B[0m\n\u001B[1;32m    129\u001B[0m missing \u001B[38;5;241m=\u001B[39m \u001B[38;5;28mset\u001B[39m(arg) \u001B[38;5;241m-\u001B[39m \u001B[38;5;28mset\u001B[39m(columns)\n\u001B[1;32m    130\u001B[0m \u001B[38;5;28;01mif\u001B[39;00m missing:\n\u001B[0;32m--> 131\u001B[0m     \u001B[38;5;28;01mraise\u001B[39;00m \u001B[38;5;167;01mValueError\u001B[39;00m(\u001B[38;5;124m\"\u001B[39m\u001B[38;5;124mFollowing columns were requested but are \u001B[39m\u001B[38;5;124m\"\u001B[39m\n\u001B[1;32m    132\u001B[0m                      \u001B[38;5;124m\"\u001B[39m\u001B[38;5;124mnot available: \u001B[39m\u001B[38;5;132;01m%s\u001B[39;00m\u001B[38;5;124m.\u001B[39m\u001B[38;5;130;01m\\n\u001B[39;00m\u001B[38;5;124m\"\u001B[39m\n\u001B[1;32m    133\u001B[0m                      \u001B[38;5;124m\"\u001B[39m\u001B[38;5;124mAll requested columns: \u001B[39m\u001B[38;5;132;01m%s\u001B[39;00m\u001B[38;5;130;01m\\n\u001B[39;00m\u001B[38;5;124m\"\u001B[39m\n\u001B[1;32m    134\u001B[0m                      \u001B[38;5;124m\"\u001B[39m\u001B[38;5;124mAvailable columns: \u001B[39m\u001B[38;5;132;01m%s\u001B[39;00m\u001B[38;5;124m\"\u001B[39m\n\u001B[1;32m    135\u001B[0m                      \u001B[38;5;124m\"\u001B[39m\u001B[38;5;124m\"\u001B[39m \u001B[38;5;241m%\u001B[39m (missing, arg, columns))\n",
      "\u001B[0;31mValueError\u001B[0m: Following columns were requested but are not available: {'chlorophyll'}.\nAll requested columns: ['datetime', 'longitude', 'latitude', 'depth', 'nitrate', 'nitrite', 'ammonium', 'phosphate', 'silicate', 'oxygen', 'chlorophyll', 'instrument_type', 'cruise_id']\nAvailable columns: ['longitude', 'latitude', 'cruise_id', 'instrument_type', 'platform_type', 'station_id', 'station_ncref', 'depth', 'datetime', 'nitrate', 'nitrate_qc', 'nitrite', 'nitrite_qc', 'ammonium', 'ammonium_qc', 'phosphate', 'phosphate_qc', 'silicate', 'silicate_qc', 'oxygen', 'oxygen_qc', 'alkalinity', 'alkalinity_qc', 'dic', 'dic_qc', 'salinity', 'salinity_qc', 'temperature', 'temperature_qc']"
     ]
    }
   ],
   "execution_count": 8
  },
  {
   "cell_type": "code",
   "id": "cbeadb10-64d2-4c9e-ad53-bc7ca6a3bd4c",
   "metadata": {
    "id": "cbeadb10-64d2-4c9e-ad53-bc7ca6a3bd4c",
    "outputId": "71b7fc2a-9eb7-4772-bde8-48217ee3251c"
   },
   "source": [
    "emodnet_rounded = emodnet[[\"YYYY\", \"MM\", \"DD\"]].copy()\n",
    "emodnet_rounded[\"lon\"] = np.round(emodnet.lon, 3)\n",
    "emodnet_rounded[\"lat\"] = np.round(emodnet.lat, 3)\n",
    "emodnet_rounded[\"depth\"] = np.round(emodnet.depth, 1)\n",
    "\n",
    "emodnet = emodnet[~emodnet_rounded.duplicated(keep=False)]\n",
    "emodnet"
   ],
   "outputs": [],
   "execution_count": null
  },
  {
   "cell_type": "code",
   "id": "62834004-0c6f-4f15-bc09-095b5d625b32",
   "metadata": {
    "id": "62834004-0c6f-4f15-bc09-095b5d625b32",
    "outputId": "f9d90eeb-6ddd-4760-d99e-9603b86e0f61"
   },
   "source": [
    "vdb_idcampains = ['TALPRO', 'SOMBA', 'PEACETIME', 'MEDWAVES', 'MSM72', 'GIANI']\n",
    "vdb_cruises = read_cruises(\"df_Nut_cruises_Med_New.csv\", \"2-cruises_new\", vdb_idcampains)\n",
    "\n",
    "gpc_idcampains = ['06MT51/2','BIOPT06','CANARI','DYFAMED','DYFAMED/PAPADOC - 99','MEDCIESM',\n",
    "'MEDGOOS2','MEDGOOS3','MEDGOOS4','MEDGOOS5','MELISSA 2004','MT84_3','NORBAL','NORBAL2',\n",
    "'NORBAL3','NORBAL4','POSEIDONE1M3A','PROSOPE','RHOFI 1','RHOFI 2','RHOFI 3','SINAPSI-3',\n",
    "'SINAPSI-4']\n",
    "gpc_cruises = read_cruises(\"df_Nut_cruises_Med_GP.csv\", \"3-cruises_old\", gpc_idcampains)\n",
    "\n",
    "cruises = pd.concat([vdb_cruises, gpc_cruises], ignore_index=True)\n",
    "cruises"
   ],
   "outputs": [],
   "execution_count": null
  },
  {
   "cell_type": "code",
   "id": "9817a798-d5d1-4e0b-a6d6-0f7aa6263f22",
   "metadata": {
    "id": "9817a798-d5d1-4e0b-a6d6-0f7aa6263f22",
    "outputId": "fce9c538-2faf-455d-9d92-af4e3fcda7e4"
   },
   "source": [
    "data = pd.concat([emodnet, cruises])\n",
    "data.sort_values(by=[\"YYYY\", \"MM\", \"DD\", \"lat\", \"lon\", \"depth\", \"flag\"], inplace=True)\n",
    "data.drop_duplicates(subset=[\"YYYY\", \"MM\", \"DD\", \"lat\", \"lon\", \"depth\"], inplace=True, ignore_index=True)\n",
    "data[\"idcampain\"] = pd.Categorical(data.cruise_id).codes\n",
    "data"
   ],
   "outputs": [],
   "execution_count": null
  },
  {
   "cell_type": "code",
   "id": "e610b7aa-5da8-4bc6-8dcc-0cd984e2a2cf",
   "metadata": {
    "id": "e610b7aa-5da8-4bc6-8dcc-0cd984e2a2cf"
   },
   "source": [
    "data.to_parquet(\"1999-2023_nutrients.parquet\")"
   ],
   "outputs": [],
   "execution_count": null
  }
 ],
 "metadata": {
  "colab": {
   "provenance": []
  },
  "kernelspec": {
   "display_name": "Python 3 (ipykernel)",
   "language": "python",
   "name": "python3"
  },
  "language_info": {
   "codemirror_mode": {
    "name": "ipython",
    "version": 3
   },
   "file_extension": ".py",
   "mimetype": "text/x-python",
   "name": "python",
   "nbconvert_exporter": "python",
   "pygments_lexer": "ipython3",
   "version": "3.12.2"
  }
 },
 "nbformat": 4,
 "nbformat_minor": 5
}
